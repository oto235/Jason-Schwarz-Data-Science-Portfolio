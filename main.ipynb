{
 "cells": [
  {
   "cell_type": "markdown",
   "metadata": {},
   "source": [
    "# Healing Hugs Exploratory Analysis\n",
    "Summary: This analysis takes a look at several variables to see if they are correlated to a husband received a healing hug from his wife. \n",
    "\n",
    "What is a healing hug, you ask? Just a one can consciously feel a physiological reponse to stress (think about when you are super stressed and your body physically feels different), this husband reports that with some hugs with his wife, he can feel the physiological reponse of muscle relaxation and lowered stressed. He presumes that during these hugs, his body releases healing hormones (or at least receives some form of healing).  \n",
    "\n",
    "As he presumes this is healthy, he would like to received as many of these hugs as possible. Who wouldn't?!\n",
    "\n",
    "He discovered I was getting into data science and began recording some variables with the hope one day I would be able to provide insight. After nearly 2.5 years, that day has come. \n",
    "\n",
    "At his request, I pre-processed the data to some extent to remove some information. The end of that preprossessing is where this project starts: healing_hugs.csv."
   ]
  },
  {
   "cell_type": "code",
   "execution_count": null,
   "metadata": {},
   "outputs": [],
   "source": []
  }
 ],
 "metadata": {
  "language_info": {
   "name": "python"
  }
 },
 "nbformat": 4,
 "nbformat_minor": 2
}
